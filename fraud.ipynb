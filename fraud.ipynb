{
 "cells": [
  {
   "cell_type": "code",
   "execution_count": 38,
   "id": "720b1c5b",
   "metadata": {},
   "outputs": [
    {
     "name": "stdout",
     "output_type": "stream",
     "text": [
      "   step      type    amount     nameOrig  oldbalanceOrg  newbalanceOrig  \\\n",
      "0     1   PAYMENT   9839.64  C1231006815       170136.0       160296.36   \n",
      "1     1   PAYMENT   1864.28  C1666544295        21249.0        19384.72   \n",
      "2     1  TRANSFER    181.00  C1305486145          181.0            0.00   \n",
      "3     1  CASH_OUT    181.00   C840083671          181.0            0.00   \n",
      "4     1   PAYMENT  11668.14  C2048537720        41554.0        29885.86   \n",
      "\n",
      "      nameDest  oldbalanceDest  newbalanceDest  isFraud  isFlaggedFraud  \n",
      "0  M1979787155             0.0             0.0        0               0  \n",
      "1  M2044282225             0.0             0.0        0               0  \n",
      "2   C553264065             0.0             0.0        1               0  \n",
      "3    C38997010         21182.0             0.0        1               0  \n",
      "4  M1230701703             0.0             0.0        0               0  \n"
     ]
    }
   ],
   "source": [
    "import pandas as pd\n",
    "file_path = \"/home/deeptanshu/.cache/kagglehub/datasets/ealaxi/paysim1/versions/2/PS_20174392719_1491204439457_log.csv\"\n",
    "df = pd.read_csv(file_path)\n",
    "print(df.head())"
   ]
  },
  {
   "cell_type": "code",
   "execution_count": 20,
   "id": "9ebd170f",
   "metadata": {},
   "outputs": [
    {
     "name": "stdout",
     "output_type": "stream",
     "text": [
      "<class 'pandas.core.frame.DataFrame'>\n",
      "RangeIndex: 6362620 entries, 0 to 6362619\n",
      "Data columns (total 11 columns):\n",
      " #   Column          Dtype  \n",
      "---  ------          -----  \n",
      " 0   step            int64  \n",
      " 1   type            object \n",
      " 2   amount          float64\n",
      " 3   nameOrig        object \n",
      " 4   oldbalanceOrg   float64\n",
      " 5   newbalanceOrig  float64\n",
      " 6   nameDest        object \n",
      " 7   oldbalanceDest  float64\n",
      " 8   newbalanceDest  float64\n",
      " 9   isFraud         int64  \n",
      " 10  isFlaggedFraud  int64  \n",
      "dtypes: float64(5), int64(3), object(3)\n",
      "memory usage: 534.0+ MB\n",
      "None\n"
     ]
    }
   ],
   "source": [
    "print(df.info())"
   ]
  },
  {
   "cell_type": "code",
   "execution_count": 21,
   "id": "75118d13",
   "metadata": {},
   "outputs": [
    {
     "name": "stdout",
     "output_type": "stream",
     "text": [
      "step              0\n",
      "type              0\n",
      "amount            0\n",
      "nameOrig          0\n",
      "oldbalanceOrg     0\n",
      "newbalanceOrig    0\n",
      "nameDest          0\n",
      "oldbalanceDest    0\n",
      "newbalanceDest    0\n",
      "isFraud           0\n",
      "isFlaggedFraud    0\n",
      "dtype: int64\n"
     ]
    }
   ],
   "source": [
    "print(df.isnull().sum())"
   ]
  },
  {
   "cell_type": "code",
   "execution_count": 22,
   "id": "7e0acc83",
   "metadata": {},
   "outputs": [],
   "source": [
    "from sklearn.preprocessing import StandardScaler\n",
    "\n",
    "scaler = StandardScaler()\n",
    "df['amount_normalized'] = scaler.fit_transform(df[['amount']])"
   ]
  },
  {
   "cell_type": "code",
   "execution_count": 39,
   "id": "5ed555ad",
   "metadata": {},
   "outputs": [
    {
     "data": {
      "text/plain": [
       "['scaler_columns.pkl']"
      ]
     },
     "execution_count": 39,
     "metadata": {},
     "output_type": "execute_result"
    }
   ],
   "source": [
    "import joblib\n",
    "df.drop(['nameOrig', 'nameDest'], axis=1, inplace=True)\n",
    "df = pd.get_dummies(df, columns=['type'], drop_first=True)\n",
    "df['errorBalanceOrig'] = df['newbalanceOrig'] + df['amount'] - df['oldbalanceOrg']\n",
    "df['errorBalanceDest'] = df['oldbalanceDest'] + df['amount'] - df['newbalanceDest']\n",
    "joblib.dump(list(df.columns), 'scaler_columns.pkl')\n"
   ]
  },
  {
   "cell_type": "code",
   "execution_count": 24,
   "id": "c2b2d0c4",
   "metadata": {},
   "outputs": [],
   "source": [
    "df['timestamp'] = pd.date_range(start='2025-01-01', periods=len(df), freq='min')"
   ]
  },
  {
   "cell_type": "code",
   "execution_count": 25,
   "id": "4ef48e67",
   "metadata": {},
   "outputs": [
    {
     "data": {
      "text/plain": [
       "['scaler.pkl']"
      ]
     },
     "execution_count": 25,
     "metadata": {},
     "output_type": "execute_result"
    }
   ],
   "source": [
    "import joblib\n",
    "X = df.drop(['isFraud', 'isFlaggedFraud', 'timestamp'], axis=1, errors='ignore')\n",
    "y = df['isFraud']\n",
    "\n",
    "scaler = StandardScaler()\n",
    "X_scaled = scaler.fit_transform(X)\n",
    "joblib.dump(scaler, 'scaler.pkl')"
   ]
  },
  {
   "cell_type": "code",
   "execution_count": 26,
   "id": "df1a95ef",
   "metadata": {},
   "outputs": [],
   "source": [
    "from sklearn.model_selection import train_test_split\n",
    "X_train, X_test, y_train, y_test = train_test_split(X_scaled, y, test_size=0.2, stratify=y, random_state=42)"
   ]
  },
  {
   "cell_type": "code",
   "execution_count": 27,
   "id": "3f9e96a0",
   "metadata": {},
   "outputs": [
    {
     "name": "stdout",
     "output_type": "stream",
     "text": [
      "Logistic Regression Results:\n",
      "               precision    recall  f1-score   support\n",
      "\n",
      "           0       1.00      0.95      0.97   1270881\n",
      "           1       0.02      0.96      0.05      1643\n",
      "\n",
      "    accuracy                           0.95   1272524\n",
      "   macro avg       0.51      0.96      0.51   1272524\n",
      "weighted avg       1.00      0.95      0.97   1272524\n",
      "\n"
     ]
    },
    {
     "data": {
      "text/plain": [
       "['log_model.pkl']"
      ]
     },
     "execution_count": 27,
     "metadata": {},
     "output_type": "execute_result"
    }
   ],
   "source": [
    "from sklearn.linear_model import LogisticRegression\n",
    "from sklearn.metrics import classification_report\n",
    "\n",
    "logreg = LogisticRegression(class_weight='balanced')\n",
    "logreg.fit(X_train, y_train)\n",
    "\n",
    "y_pred = logreg.predict(X_test)\n",
    "print(\"Logistic Regression Results:\\n\", classification_report(y_test, y_pred))\n",
    "\n",
    "import joblib\n",
    "joblib.dump(logreg, 'log_model.pkl')"
   ]
  },
  {
   "cell_type": "code",
   "execution_count": 28,
   "id": "b020b22c",
   "metadata": {},
   "outputs": [
    {
     "name": "stdout",
     "output_type": "stream",
     "text": [
      "Random Forest Results:\n",
      "               precision    recall  f1-score   support\n",
      "\n",
      "           0       1.00      1.00      1.00   1270881\n",
      "           1       1.00      1.00      1.00      1643\n",
      "\n",
      "    accuracy                           1.00   1272524\n",
      "   macro avg       1.00      1.00      1.00   1272524\n",
      "weighted avg       1.00      1.00      1.00   1272524\n",
      "\n"
     ]
    },
    {
     "data": {
      "text/plain": [
       "['rf_model.pkl']"
      ]
     },
     "execution_count": 28,
     "metadata": {},
     "output_type": "execute_result"
    }
   ],
   "source": [
    "from sklearn.ensemble import RandomForestClassifier\n",
    "\n",
    "rf = RandomForestClassifier(n_estimators=100, class_weight='balanced', random_state=42)\n",
    "rf.fit(X_train, y_train)\n",
    "\n",
    "y_pred = rf.predict(X_test)\n",
    "print(\"Random Forest Results:\\n\", classification_report(y_test, y_pred))\n",
    "\n",
    "import joblib\n",
    "joblib.dump(rf, 'rf_model.pkl')\n"
   ]
  },
  {
   "cell_type": "code",
   "execution_count": 29,
   "id": "1a698019",
   "metadata": {},
   "outputs": [
    {
     "name": "stdout",
     "output_type": "stream",
     "text": [
      "[[1270881       0]\n",
      " [      4    1639]]\n"
     ]
    }
   ],
   "source": [
    "from sklearn.metrics import confusion_matrix\n",
    "cm = confusion_matrix(y_test, y_pred)\n",
    "print(cm)"
   ]
  },
  {
   "cell_type": "code",
   "execution_count": 30,
   "id": "bcdc079c",
   "metadata": {},
   "outputs": [
    {
     "data": {
      "text/plain": [
       "['iso_model.pkl']"
      ]
     },
     "execution_count": 30,
     "metadata": {},
     "output_type": "execute_result"
    }
   ],
   "source": [
    "from sklearn.ensemble import IsolationForest\n",
    "import joblib\n",
    "\n",
    "iso = IsolationForest(contamination=0.001, random_state=42)\n",
    "iso.fit(X_scaled)\n",
    "\n",
    "joblib.dump(iso, 'iso_model.pkl')\n"
   ]
  },
  {
   "cell_type": "code",
   "execution_count": 31,
   "id": "e6843f6c",
   "metadata": {},
   "outputs": [
    {
     "name": "stdout",
     "output_type": "stream",
     "text": [
      "Isolation Forest Report:\n",
      "[[1264719    6162]\n",
      " [   1461     182]]\n",
      "              precision    recall  f1-score   support\n",
      "\n",
      "           0       1.00      1.00      1.00   1270881\n",
      "           1       0.03      0.11      0.05      1643\n",
      "\n",
      "    accuracy                           0.99   1272524\n",
      "   macro avg       0.51      0.55      0.52   1272524\n",
      "weighted avg       1.00      0.99      1.00   1272524\n",
      "\n",
      "ROC-AUC: 0.5529621856200594\n"
     ]
    }
   ],
   "source": [
    "from sklearn.metrics import classification_report, confusion_matrix, roc_auc_score\n",
    "\n",
    "# Train\n",
    "iso = IsolationForest(contamination=0.005)\n",
    "iso.fit(X_train)\n",
    "\n",
    "# Predict\n",
    "y_pred_iso = iso.predict(X_test)\n",
    "y_pred_iso = [1 if p == -1 else 0 for p in y_pred_iso]\n",
    "\n",
    "# Evaluate\n",
    "print(\"Isolation Forest Report:\")\n",
    "print(confusion_matrix(y_test, y_pred_iso))\n",
    "print(classification_report(y_test, y_pred_iso))\n",
    "print(\"ROC-AUC:\", roc_auc_score(y_test, y_pred_iso))\n"
   ]
  },
  {
   "cell_type": "code",
   "execution_count": 32,
   "id": "024578b4",
   "metadata": {},
   "outputs": [
    {
     "name": "stdout",
     "output_type": "stream",
     "text": [
      "Epoch 1/5\n",
      "\u001b[1m9929/9929\u001b[0m \u001b[32m━━━━━━━━━━━━━━━━━━━━\u001b[0m\u001b[37m\u001b[0m \u001b[1m13s\u001b[0m 982us/step - loss: 0.0357 - val_loss: 0.0284\n",
      "Epoch 2/5\n",
      "\u001b[1m9929/9929\u001b[0m \u001b[32m━━━━━━━━━━━━━━━━━━━━\u001b[0m\u001b[37m\u001b[0m \u001b[1m10s\u001b[0m 948us/step - loss: 0.0016 - val_loss: 0.0225\n",
      "Epoch 3/5\n",
      "\u001b[1m9929/9929\u001b[0m \u001b[32m━━━━━━━━━━━━━━━━━━━━\u001b[0m\u001b[37m\u001b[0m \u001b[1m10s\u001b[0m 948us/step - loss: 0.0016 - val_loss: 0.0286\n",
      "Epoch 4/5\n",
      "\u001b[1m9929/9929\u001b[0m \u001b[32m━━━━━━━━━━━━━━━━━━━━\u001b[0m\u001b[37m\u001b[0m \u001b[1m10s\u001b[0m 952us/step - loss: 8.1545e-04 - val_loss: 0.0351\n",
      "Epoch 5/5\n",
      "\u001b[1m9929/9929\u001b[0m \u001b[32m━━━━━━━━━━━━━━━━━━━━\u001b[0m\u001b[37m\u001b[0m \u001b[1m10s\u001b[0m 988us/step - loss: 0.0010 - val_loss: 0.0387\n",
      "\u001b[1m198832/198832\u001b[0m \u001b[32m━━━━━━━━━━━━━━━━━━━━\u001b[0m\u001b[37m\u001b[0m \u001b[1m66s\u001b[0m 331us/step\n",
      "Autoencoder Evaluation:\n",
      "[[5724435  629972]\n",
      " [   1923    6290]]\n",
      "              precision    recall  f1-score   support\n",
      "\n",
      "           0       1.00      0.90      0.95   6354407\n",
      "           1       0.01      0.77      0.02      8213\n",
      "\n",
      "    accuracy                           0.90   6362620\n",
      "   macro avg       0.50      0.83      0.48   6362620\n",
      "weighted avg       1.00      0.90      0.95   6362620\n",
      "\n"
     ]
    }
   ],
   "source": [
    "import pandas as pd\n",
    "import numpy as np\n",
    "from sklearn.preprocessing import StandardScaler\n",
    "from sklearn.metrics import classification_report, confusion_matrix\n",
    "from tensorflow.keras.models import Model\n",
    "from tensorflow.keras.layers import Input, Dense\n",
    "from tensorflow.keras.optimizers import Adam\n",
    "import matplotlib.pyplot as plt\n",
    "import seaborn as sns\n",
    "\n",
    "X_normal = X_scaled[y == 0]\n",
    "\n",
    "input_dim = X_normal.shape[1]\n",
    "\n",
    "input_layer = Input(shape=(input_dim,))\n",
    "encoded = Dense(64, activation='relu')(input_layer)\n",
    "encoded = Dense(32, activation='relu')(encoded)\n",
    "encoded = Dense(16, activation='relu')(encoded)\n",
    "\n",
    "decoded = Dense(32, activation='relu')(encoded)\n",
    "decoded = Dense(64, activation='relu')(decoded)\n",
    "output_layer = Dense(input_dim, activation='linear')(decoded)\n",
    "\n",
    "autoencoder = Model(inputs=input_layer, outputs=output_layer)\n",
    "from tensorflow.keras.losses import MeanSquaredError\n",
    "autoencoder.compile(optimizer=Adam(0.001), loss=MeanSquaredError())\n",
    "\n",
    "\n",
    "\n",
    "autoencoder.fit(X_normal, X_normal,\n",
    "                epochs=5,\n",
    "                batch_size=512,\n",
    "                shuffle=True,\n",
    "                validation_split=0.2)\n",
    "\n",
    "X_pred = autoencoder.predict(X_scaled)\n",
    "reconstruction_error = np.mean(np.square(X_scaled - X_pred), axis=1)\n",
    "\n",
    "threshold = np.percentile(reconstruction_error, 90)  \n",
    "y_pred = (reconstruction_error > threshold).astype(int)\n",
    "\n",
    "\n",
    "print(\"Autoencoder Evaluation:\")\n",
    "print(confusion_matrix(y, y_pred))\n",
    "print(classification_report(y, y_pred))\n",
    "import joblib\n",
    "autoencoder.save('autoencoder_model.keras')\n",
    "\n"
   ]
  },
  {
   "cell_type": "code",
   "execution_count": 34,
   "id": "bafb0b2f",
   "metadata": {},
   "outputs": [
    {
     "data": {
      "text/html": [
       "<div>\n",
       "<style scoped>\n",
       "    .dataframe tbody tr th:only-of-type {\n",
       "        vertical-align: middle;\n",
       "    }\n",
       "\n",
       "    .dataframe tbody tr th {\n",
       "        vertical-align: top;\n",
       "    }\n",
       "\n",
       "    .dataframe thead th {\n",
       "        text-align: right;\n",
       "    }\n",
       "</style>\n",
       "<table border=\"1\" class=\"dataframe\">\n",
       "  <thead>\n",
       "    <tr style=\"text-align: right;\">\n",
       "      <th></th>\n",
       "      <th>step</th>\n",
       "      <th>amount</th>\n",
       "      <th>oldbalanceOrg</th>\n",
       "      <th>newbalanceOrig</th>\n",
       "      <th>oldbalanceDest</th>\n",
       "      <th>newbalanceDest</th>\n",
       "      <th>isFraud</th>\n",
       "      <th>isFlaggedFraud</th>\n",
       "      <th>amount_normalized</th>\n",
       "      <th>type_CASH_OUT</th>\n",
       "      <th>type_DEBIT</th>\n",
       "      <th>type_PAYMENT</th>\n",
       "      <th>type_TRANSFER</th>\n",
       "      <th>errorBalanceOrig</th>\n",
       "      <th>errorBalanceDest</th>\n",
       "      <th>timestamp</th>\n",
       "    </tr>\n",
       "  </thead>\n",
       "  <tbody>\n",
       "    <tr>\n",
       "      <th>0</th>\n",
       "      <td>1</td>\n",
       "      <td>9839.64</td>\n",
       "      <td>170136.0</td>\n",
       "      <td>160296.36</td>\n",
       "      <td>0.0</td>\n",
       "      <td>0.0</td>\n",
       "      <td>0</td>\n",
       "      <td>0</td>\n",
       "      <td>-0.281560</td>\n",
       "      <td>False</td>\n",
       "      <td>False</td>\n",
       "      <td>True</td>\n",
       "      <td>False</td>\n",
       "      <td>0.0</td>\n",
       "      <td>9839.64</td>\n",
       "      <td>2025-01-01 00:00:00</td>\n",
       "    </tr>\n",
       "    <tr>\n",
       "      <th>1</th>\n",
       "      <td>1</td>\n",
       "      <td>1864.28</td>\n",
       "      <td>21249.0</td>\n",
       "      <td>19384.72</td>\n",
       "      <td>0.0</td>\n",
       "      <td>0.0</td>\n",
       "      <td>0</td>\n",
       "      <td>0</td>\n",
       "      <td>-0.294767</td>\n",
       "      <td>False</td>\n",
       "      <td>False</td>\n",
       "      <td>True</td>\n",
       "      <td>False</td>\n",
       "      <td>0.0</td>\n",
       "      <td>1864.28</td>\n",
       "      <td>2025-01-01 00:01:00</td>\n",
       "    </tr>\n",
       "    <tr>\n",
       "      <th>2</th>\n",
       "      <td>1</td>\n",
       "      <td>181.00</td>\n",
       "      <td>181.0</td>\n",
       "      <td>0.00</td>\n",
       "      <td>0.0</td>\n",
       "      <td>0.0</td>\n",
       "      <td>1</td>\n",
       "      <td>0</td>\n",
       "      <td>-0.297555</td>\n",
       "      <td>False</td>\n",
       "      <td>False</td>\n",
       "      <td>False</td>\n",
       "      <td>True</td>\n",
       "      <td>0.0</td>\n",
       "      <td>181.00</td>\n",
       "      <td>2025-01-01 00:02:00</td>\n",
       "    </tr>\n",
       "    <tr>\n",
       "      <th>3</th>\n",
       "      <td>1</td>\n",
       "      <td>181.00</td>\n",
       "      <td>181.0</td>\n",
       "      <td>0.00</td>\n",
       "      <td>21182.0</td>\n",
       "      <td>0.0</td>\n",
       "      <td>1</td>\n",
       "      <td>0</td>\n",
       "      <td>-0.297555</td>\n",
       "      <td>True</td>\n",
       "      <td>False</td>\n",
       "      <td>False</td>\n",
       "      <td>False</td>\n",
       "      <td>0.0</td>\n",
       "      <td>21363.00</td>\n",
       "      <td>2025-01-01 00:03:00</td>\n",
       "    </tr>\n",
       "    <tr>\n",
       "      <th>4</th>\n",
       "      <td>1</td>\n",
       "      <td>11668.14</td>\n",
       "      <td>41554.0</td>\n",
       "      <td>29885.86</td>\n",
       "      <td>0.0</td>\n",
       "      <td>0.0</td>\n",
       "      <td>0</td>\n",
       "      <td>0</td>\n",
       "      <td>-0.278532</td>\n",
       "      <td>False</td>\n",
       "      <td>False</td>\n",
       "      <td>True</td>\n",
       "      <td>False</td>\n",
       "      <td>0.0</td>\n",
       "      <td>11668.14</td>\n",
       "      <td>2025-01-01 00:04:00</td>\n",
       "    </tr>\n",
       "  </tbody>\n",
       "</table>\n",
       "</div>"
      ],
      "text/plain": [
       "   step    amount  oldbalanceOrg  newbalanceOrig  oldbalanceDest  \\\n",
       "0     1   9839.64       170136.0       160296.36             0.0   \n",
       "1     1   1864.28        21249.0        19384.72             0.0   \n",
       "2     1    181.00          181.0            0.00             0.0   \n",
       "3     1    181.00          181.0            0.00         21182.0   \n",
       "4     1  11668.14        41554.0        29885.86             0.0   \n",
       "\n",
       "   newbalanceDest  isFraud  isFlaggedFraud  amount_normalized  type_CASH_OUT  \\\n",
       "0             0.0        0               0          -0.281560          False   \n",
       "1             0.0        0               0          -0.294767          False   \n",
       "2             0.0        1               0          -0.297555          False   \n",
       "3             0.0        1               0          -0.297555           True   \n",
       "4             0.0        0               0          -0.278532          False   \n",
       "\n",
       "   type_DEBIT  type_PAYMENT  type_TRANSFER  errorBalanceOrig  \\\n",
       "0       False          True          False               0.0   \n",
       "1       False          True          False               0.0   \n",
       "2       False         False           True               0.0   \n",
       "3       False         False          False               0.0   \n",
       "4       False          True          False               0.0   \n",
       "\n",
       "   errorBalanceDest           timestamp  \n",
       "0           9839.64 2025-01-01 00:00:00  \n",
       "1           1864.28 2025-01-01 00:01:00  \n",
       "2            181.00 2025-01-01 00:02:00  \n",
       "3          21363.00 2025-01-01 00:03:00  \n",
       "4          11668.14 2025-01-01 00:04:00  "
      ]
     },
     "execution_count": 34,
     "metadata": {},
     "output_type": "execute_result"
    }
   ],
   "source": [
    "df.head()"
   ]
  },
  {
   "cell_type": "code",
   "execution_count": 40,
   "id": "a06da616",
   "metadata": {},
   "outputs": [],
   "source": [
    "import smtplib\n",
    "from email.mime.text import MIMEText\n",
    "import pandas as pd\n",
    "\n",
    "def send_alert(transaction):\n",
    "    print(\"🚨 Fraud Detected in Transaction\")\n",
    "    \n",
    "    sender_email = \"deepb2601@gmail.com\"\n",
    "    receiver_email = \"deepu26jan2004@gmail.com\"\n",
    "    password = \"efww jpkb rwry valb\"  # Make sure this is an app password\n",
    "\n",
    "    subject = \"🚨 Fraud Alert Detected\"\n",
    "    body = f\"\"\"\n",
    "    Fraudulent transaction detected!\n",
    "\n",
    "    Details:\n",
    "    {transaction.to_string(index=True)}\n",
    "    \"\"\"\n",
    "\n",
    "    msg = MIMEText(body)\n",
    "    msg['Subject'] = subject\n",
    "    msg['From'] = sender_email\n",
    "    msg['To'] = receiver_email\n",
    "\n",
    "    try:\n",
    "        server = smtplib.SMTP(\"smtp.gmail.com\", 587)\n",
    "        server.starttls()\n",
    "        server.login(sender_email, password)\n",
    "        server.sendmail(sender_email, receiver_email, msg.as_string())\n",
    "        server.quit()\n",
    "        print(\"✅ Email alert sent successfully!\")\n",
    "    except Exception as e:\n",
    "        print(f\"❌ Failed to send alert: {e}\")\n"
   ]
  },
  {
   "cell_type": "code",
   "execution_count": 36,
   "id": "e58951c8",
   "metadata": {},
   "outputs": [
    {
     "name": "stdout",
     "output_type": "stream",
     "text": [
      "<class 'pandas.core.frame.DataFrame'>\n",
      "RangeIndex: 6362620 entries, 0 to 6362619\n",
      "Data columns (total 16 columns):\n",
      " #   Column             Dtype         \n",
      "---  ------             -----         \n",
      " 0   step               int64         \n",
      " 1   amount             float64       \n",
      " 2   oldbalanceOrg      float64       \n",
      " 3   newbalanceOrig     float64       \n",
      " 4   oldbalanceDest     float64       \n",
      " 5   newbalanceDest     float64       \n",
      " 6   isFraud            int64         \n",
      " 7   isFlaggedFraud     int64         \n",
      " 8   amount_normalized  float64       \n",
      " 9   type_CASH_OUT      bool          \n",
      " 10  type_DEBIT         bool          \n",
      " 11  type_PAYMENT       bool          \n",
      " 12  type_TRANSFER      bool          \n",
      " 13  errorBalanceOrig   float64       \n",
      " 14  errorBalanceDest   float64       \n",
      " 15  timestamp          datetime64[ns]\n",
      "dtypes: bool(4), datetime64[ns](1), float64(8), int64(3)\n",
      "memory usage: 606.8 MB\n"
     ]
    }
   ],
   "source": [
    "df.info()"
   ]
  },
  {
   "cell_type": "code",
   "execution_count": 41,
   "id": "64df5c29",
   "metadata": {},
   "outputs": [
    {
     "name": "stdout",
     "output_type": "stream",
     "text": [
      "🚨 Fraud Detected in Transaction\n",
      "✅ Email alert sent successfully!\n"
     ]
    }
   ],
   "source": [
    "sample_transaction = pd.Series({\n",
    "    'amount': 4500,\n",
    "    'type_TRANSFER': 1,\n",
    "    'oldbalanceOrg': 5000,\n",
    "    'newbalanceOrig': 500,\n",
    "    'oldbalanceDest': 0,\n",
    "    'newbalanceDest': 4500\n",
    "})\n",
    "\n",
    "send_alert(sample_transaction)\n"
   ]
  }
 ],
 "metadata": {
  "kernelspec": {
   "display_name": "myenv",
   "language": "python",
   "name": "python3"
  },
  "language_info": {
   "codemirror_mode": {
    "name": "ipython",
    "version": 3
   },
   "file_extension": ".py",
   "mimetype": "text/x-python",
   "name": "python",
   "nbconvert_exporter": "python",
   "pygments_lexer": "ipython3",
   "version": "3.12.3"
  }
 },
 "nbformat": 4,
 "nbformat_minor": 5
}
